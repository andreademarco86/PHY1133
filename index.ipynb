{
 "cells": [
  {
   "cell_type": "markdown",
   "metadata": {},
   "source": [
    "# PHY1185 - Introduction to Programming for Physicists\n",
    "\n",
    "Welcome to the PHY1185 - Introduction to Programming for Physicists.\n",
    "\n",
    "### Notes\n",
    "- [Preliminaries](preliminaries.ipynb)\n",
    "- [Python Basics](python_basics.ipynb)\n",
    "- [Control Flow](control_flow.ipynb)\n",
    "- [Data Structures](data_types.ipynb)\n",
    "- [Functions](functions.ipynb)\n",
    "- [Numpy](numpy.ipynb)\n",
    "- [Matplotlib](matplotlib.ipynb)\n",
    "\n",
    "### Worksheets\n",
    "- [Worksheet 1](worksheets/worksheet_1.ipynb)\n",
    "- [Worksheet 2](worksheets/worksheet_2.ipynb)\n",
    "- [Worksheet 3](worksheets/worksheet_3.ipynb)\n",
    "- [Worksheet 4](worksheets/worksheet_4.ipynb)\n",
    "- [Worksheet 5](worksheets/worksheet_5.ipynb)\n",
    "\n",
    "### Resources\n",
    "\n",
    "- [Python 3 Documentation](https://docs.python.org/3/)\n",
    "- [Python for Data Science Cheat Sheet](https://s3.amazonaws.com/assets.datacamp.com/blog_assets/PythonForDataScience.pdf)\n",
    "- [A Byte of Python](http://www.ibiblio.org/swaroopch/byteofpython/files/120/byteofpython_120.pdf) - These notes are based on this free book\n",
    "- [Online Python Interpreter](https://repl.it/languages/python3)"
   ]
  }
 ],
 "metadata": {
  "anaconda-cloud": {},
  "kernelspec": {
   "display_name": "Python 3",
   "language": "python",
   "name": "python3"
  },
  "language_info": {
   "codemirror_mode": {
    "name": "ipython",
    "version": 3
   },
   "file_extension": ".py",
   "mimetype": "text/x-python",
   "name": "python",
   "nbconvert_exporter": "python",
   "pygments_lexer": "ipython3",
   "version": "3.6.0"
  }
 },
 "nbformat": 4,
 "nbformat_minor": 2
}
