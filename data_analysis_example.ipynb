{
 "cells": [
  {
   "cell_type": "markdown",
   "metadata": {},
   "source": [
    "# Data Analysis Example\n",
    "\n",
    "In this notebook we use the example provided in \"Graph and Data Analysis Example\" and work out some of the questions using Python. \n",
    "\n",
    "## Problem \n",
    "\n",
    "A space observatory measures the speed $v$ with which a number of satellites are moving in their orbit together with their distance from Earth's center $r$. The complete set of results is given in the table below.\n",
    "\n",
    "![image.png](figures/satellites_table.png)\n",
    "\n",
    "Newton's laws of gravitation indicates that the velocity is related to the distance from the Earth's center through the equation:\n",
    "\n",
    "$$ v^2= \\frac{\\frac{4}{3}\\pi G\\rho_ER^3_E}{r} $$\n",
    "\n",
    "where $G$ is the Universal Gravitational constant while $R_E$ and $\\rho_E$ are respectively the radius and density of Earth. In an effort to determine a value for $G$, the following measurements were also taken\n",
    "\n",
    "![image.png](figures/density_table.png)\n",
    "\n",
    "The above measuremet were saved in an [Excel workbook](data_analysis_example.xlsx).\n",
    "\n",
    "Use this information to answer the following questions:\n",
    "1. Determine the average and std values for the Earth's radius and density\n",
    "2. Calculate the corresponding values for $r^{-1}$ and $v^2$\n",
    "3. Plot a graph of $r^{-1}$ against $v^2$\n",
    "4. Determine the gradient and the intercept of this graph\n",
    "\n",
    "Please refer to the Graph and Data Analysis example for a discussion on how to interpret the tables above.\n",
    "\n",
    " ## Solution\n",
    " \n",
    "The answers for (1) can be obtained by using a calculator, however this is labour intensive so we'll be using Python to do so. First order of business is to load the contents of the Excel file. We'll be using [Pandas](pandas.ipynb) to do so. \n",
    " \n",
    "Let's import all the required packages first"
   ]
  },
  {
   "cell_type": "code",
   "execution_count": 2,
   "metadata": {},
   "outputs": [],
   "source": [
    "from matplotlib import pyplot as plt\n",
    "from math import sqrt\n",
    "import pandas as pd\n",
    "import numpy as np\n",
    "\n",
    "# Enable inline plotting\n",
    "%matplotlib inline"
   ]
  },
  {
   "cell_type": "markdown",
   "metadata": {},
   "source": [
    " #### 0. Load Excel sheet"
   ]
  },
  {
   "cell_type": "code",
   "execution_count": 3,
   "metadata": {},
   "outputs": [
    {
     "data": {
      "text/html": [
       "<div>\n",
       "<style scoped>\n",
       "    .dataframe tbody tr th:only-of-type {\n",
       "        vertical-align: middle;\n",
       "    }\n",
       "\n",
       "    .dataframe tbody tr th {\n",
       "        vertical-align: top;\n",
       "    }\n",
       "\n",
       "    .dataframe thead th {\n",
       "        text-align: right;\n",
       "    }\n",
       "</style>\n",
       "<table border=\"1\" class=\"dataframe\">\n",
       "  <thead>\n",
       "    <tr style=\"text-align: right;\">\n",
       "      <th></th>\n",
       "      <th>r / km</th>\n",
       "      <th>±1</th>\n",
       "      <th>8426</th>\n",
       "      <th>10152</th>\n",
       "      <th>12309</th>\n",
       "      <th>15227</th>\n",
       "      <th>21036</th>\n",
       "      <th>29241</th>\n",
       "      <th>40676</th>\n",
       "      <th>71002</th>\n",
       "    </tr>\n",
       "  </thead>\n",
       "  <tbody>\n",
       "    <tr>\n",
       "      <th>0</th>\n",
       "      <td>v / 104 km hr-1</td>\n",
       "      <td>0.001</td>\n",
       "      <td>2.34</td>\n",
       "      <td>2.232</td>\n",
       "      <td>1.987</td>\n",
       "      <td>1.763</td>\n",
       "      <td>1.653</td>\n",
       "      <td>1.432</td>\n",
       "      <td>1.136</td>\n",
       "      <td>0.923</td>\n",
       "    </tr>\n",
       "  </tbody>\n",
       "</table>\n",
       "</div>"
      ],
      "text/plain": [
       "            r / km     ±1  8426  10152  12309  15227  21036  29241  40676  \\\n",
       "0  v / 104 km hr-1  0.001  2.34  2.232  1.987  1.763  1.653  1.432  1.136   \n",
       "\n",
       "   71002  \n",
       "0  0.923  "
      ]
     },
     "execution_count": 3,
     "metadata": {},
     "output_type": "execute_result"
    }
   ],
   "source": [
    "# Read the first worksheet\n",
    "satellite_speed = pd.read_excel('data_analysis_example.xlsx', 0)\n",
    "satellite_speed"
   ]
  },
  {
   "cell_type": "markdown",
   "metadata": {},
   "source": [
    "Note that the above statement loads the data as well as the row titles (the leftmost two columns). Since this is not part of our data we do not need to load them. We will use the `iloc` property of a DataFrame to specify which rows and columns we want to keep:"
   ]
  },
  {
   "cell_type": "code",
   "execution_count": 4,
   "metadata": {},
   "outputs": [
    {
     "data": {
      "text/html": [
       "<div>\n",
       "<style scoped>\n",
       "    .dataframe tbody tr th:only-of-type {\n",
       "        vertical-align: middle;\n",
       "    }\n",
       "\n",
       "    .dataframe tbody tr th {\n",
       "        vertical-align: top;\n",
       "    }\n",
       "\n",
       "    .dataframe thead th {\n",
       "        text-align: right;\n",
       "    }\n",
       "</style>\n",
       "<table border=\"1\" class=\"dataframe\">\n",
       "  <thead>\n",
       "    <tr style=\"text-align: right;\">\n",
       "      <th></th>\n",
       "      <th>8426</th>\n",
       "      <th>10152</th>\n",
       "      <th>12309</th>\n",
       "      <th>15227</th>\n",
       "      <th>21036</th>\n",
       "      <th>29241</th>\n",
       "      <th>40676</th>\n",
       "      <th>71002</th>\n",
       "    </tr>\n",
       "  </thead>\n",
       "  <tbody>\n",
       "    <tr>\n",
       "      <th>0</th>\n",
       "      <td>2.34</td>\n",
       "      <td>2.232</td>\n",
       "      <td>1.987</td>\n",
       "      <td>1.763</td>\n",
       "      <td>1.653</td>\n",
       "      <td>1.432</td>\n",
       "      <td>1.136</td>\n",
       "      <td>0.923</td>\n",
       "    </tr>\n",
       "  </tbody>\n",
       "</table>\n",
       "</div>"
      ],
      "text/plain": [
       "   8426   10152  12309  15227  21036  29241  40676  71002\n",
       "0   2.34  2.232  1.987  1.763  1.653  1.432  1.136  0.923"
      ]
     },
     "execution_count": 4,
     "metadata": {},
     "output_type": "execute_result"
    }
   ],
   "source": [
    "satellite_speed.iloc[:, 2:]"
   ]
  },
  {
   "cell_type": "markdown",
   "metadata": {},
   "source": [
    "Notice also that the data frame interprets the first row as column headers, while in fact the data does not contain column headers. We can tell Pandas to not interpret the first row as header when reading the file as follows:"
   ]
  },
  {
   "cell_type": "code",
   "execution_count": 5,
   "metadata": {},
   "outputs": [
    {
     "data": {
      "text/html": [
       "<div>\n",
       "<style scoped>\n",
       "    .dataframe tbody tr th:only-of-type {\n",
       "        vertical-align: middle;\n",
       "    }\n",
       "\n",
       "    .dataframe tbody tr th {\n",
       "        vertical-align: top;\n",
       "    }\n",
       "\n",
       "    .dataframe thead th {\n",
       "        text-align: right;\n",
       "    }\n",
       "</style>\n",
       "<table border=\"1\" class=\"dataframe\">\n",
       "  <thead>\n",
       "    <tr style=\"text-align: right;\">\n",
       "      <th></th>\n",
       "      <th>2</th>\n",
       "      <th>3</th>\n",
       "      <th>4</th>\n",
       "      <th>5</th>\n",
       "      <th>6</th>\n",
       "      <th>7</th>\n",
       "      <th>8</th>\n",
       "      <th>9</th>\n",
       "    </tr>\n",
       "  </thead>\n",
       "  <tbody>\n",
       "    <tr>\n",
       "      <th>0</th>\n",
       "      <td>8426.00</td>\n",
       "      <td>10152.000</td>\n",
       "      <td>12309.000</td>\n",
       "      <td>15227.000</td>\n",
       "      <td>21036.000</td>\n",
       "      <td>29241.000</td>\n",
       "      <td>40676.000</td>\n",
       "      <td>71002.000</td>\n",
       "    </tr>\n",
       "    <tr>\n",
       "      <th>1</th>\n",
       "      <td>2.34</td>\n",
       "      <td>2.232</td>\n",
       "      <td>1.987</td>\n",
       "      <td>1.763</td>\n",
       "      <td>1.653</td>\n",
       "      <td>1.432</td>\n",
       "      <td>1.136</td>\n",
       "      <td>0.923</td>\n",
       "    </tr>\n",
       "  </tbody>\n",
       "</table>\n",
       "</div>"
      ],
      "text/plain": [
       "         2          3          4          5          6          7          8  \\\n",
       "0  8426.00  10152.000  12309.000  15227.000  21036.000  29241.000  40676.000   \n",
       "1     2.34      2.232      1.987      1.763      1.653      1.432      1.136   \n",
       "\n",
       "           9  \n",
       "0  71002.000  \n",
       "1      0.923  "
      ]
     },
     "execution_count": 5,
     "metadata": {},
     "output_type": "execute_result"
    }
   ],
   "source": [
    "# Read the first worksheet, specifying that there is no header row\n",
    "satellite_speed = pd.read_excel('data_analysis_example.xlsx', 0, header=None)\n",
    "satellite_speed = satellite_speed.iloc[:, 2:]\n",
    "\n",
    "satellite_speed"
   ]
  },
  {
   "cell_type": "markdown",
   "metadata": {},
   "source": [
    "This looks much better. Let's load the second worksheet as well"
   ]
  },
  {
   "cell_type": "code",
   "execution_count": 6,
   "metadata": {},
   "outputs": [
    {
     "data": {
      "text/html": [
       "<div>\n",
       "<style scoped>\n",
       "    .dataframe tbody tr th:only-of-type {\n",
       "        vertical-align: middle;\n",
       "    }\n",
       "\n",
       "    .dataframe tbody tr th {\n",
       "        vertical-align: top;\n",
       "    }\n",
       "\n",
       "    .dataframe thead th {\n",
       "        text-align: right;\n",
       "    }\n",
       "</style>\n",
       "<table border=\"1\" class=\"dataframe\">\n",
       "  <thead>\n",
       "    <tr style=\"text-align: right;\">\n",
       "      <th></th>\n",
       "      <th>2</th>\n",
       "      <th>3</th>\n",
       "      <th>4</th>\n",
       "      <th>5</th>\n",
       "      <th>6</th>\n",
       "    </tr>\n",
       "  </thead>\n",
       "  <tbody>\n",
       "    <tr>\n",
       "      <th>0</th>\n",
       "      <td>5520</td>\n",
       "      <td>5495</td>\n",
       "      <td>5630</td>\n",
       "      <td>5523</td>\n",
       "      <td>5540</td>\n",
       "    </tr>\n",
       "    <tr>\n",
       "      <th>1</th>\n",
       "      <td>6378</td>\n",
       "      <td>6362</td>\n",
       "      <td>6390</td>\n",
       "      <td>6383</td>\n",
       "      <td>6369</td>\n",
       "    </tr>\n",
       "  </tbody>\n",
       "</table>\n",
       "</div>"
      ],
      "text/plain": [
       "      2     3     4     5     6\n",
       "0  5520  5495  5630  5523  5540\n",
       "1  6378  6362  6390  6383  6369"
      ]
     },
     "execution_count": 6,
     "metadata": {},
     "output_type": "execute_result"
    }
   ],
   "source": [
    "density_radius = pd.read_excel('data_analysis_example.xlsx', 1, header=None)\n",
    "density_radius = density_radius.iloc[:, 2:]\n",
    "density_radius"
   ]
  },
  {
   "cell_type": "markdown",
   "metadata": {},
   "source": [
    "Let us seperate the rows from both tables so that we can work with 1D arrays."
   ]
  },
  {
   "cell_type": "code",
   "execution_count": 7,
   "metadata": {},
   "outputs": [
    {
     "data": {
      "text/plain": [
       "2    2.340\n",
       "3    2.232\n",
       "4    1.987\n",
       "5    1.763\n",
       "6    1.653\n",
       "7    1.432\n",
       "8    1.136\n",
       "9    0.923\n",
       "Name: 1, dtype: float64"
      ]
     },
     "execution_count": 7,
     "metadata": {},
     "output_type": "execute_result"
    }
   ],
   "source": [
    "satellite_radius = satellite_speed.iloc[0, :] \n",
    "satellite_velocity =  satellite_speed.iloc[1, :]\n",
    "earth_density = density_radius.iloc[0, :]\n",
    "earth_radius = density_radius.iloc[1, :]\n",
    "\n",
    "satellite_velocity"
   ]
  },
  {
   "cell_type": "markdown",
   "metadata": {},
   "source": [
    "#### 1. Average, standard deviation and uncertainty of  density and radius"
   ]
  },
  {
   "cell_type": "markdown",
   "metadata": {},
   "source": [
    "To compute the average of the radius and density from the second table we can simply use the `mean` function applied on the dataframe."
   ]
  },
  {
   "cell_type": "code",
   "execution_count": 22,
   "metadata": {},
   "outputs": [
    {
     "name": "stdout",
     "output_type": "stream",
     "text": [
      "Average density is 5541.600, average radius is 6376.400\n"
     ]
    }
   ],
   "source": [
    "earth_density_average = earth_density.mean()\n",
    "earth_radius_average = earth_radius.mean()\n",
    "\n",
    "print(\"Average density is {:.3f}, average radius is {:.3f}\".format(earth_density_average, earth_radius_average))"
   ]
  },
  {
   "cell_type": "markdown",
   "metadata": {},
   "source": [
    "We can use the same technique to calculate the standard deviation, this time using the `std` function:"
   ]
  },
  {
   "cell_type": "code",
   "execution_count": 23,
   "metadata": {},
   "outputs": [
    {
     "name": "stdout",
     "output_type": "stream",
     "text": [
      "Std density is 51.964, std radius is 11.104\n"
     ]
    }
   ],
   "source": [
    "earth_density_std = earth_density.std()\n",
    "earth_radius_std = earth_radius.std()\n",
    "\n",
    "print(\"Std density is {:.3f}, std radius is {:.3f}\".format(earth_density_std, earth_radius_std))"
   ]
  },
  {
   "cell_type": "markdown",
   "metadata": {},
   "source": [
    "At this point we can compute the uncertainty of this calculation:\n",
    "\n",
    "$$ \\Delta \\overline{X} = t_{\\alpha,n-1} \\frac{s}{\\sqrt{n}}$$\n",
    "\n",
    "In this case $n$=5 so that $t_{\\alpha,n-1}$=2.78. We can now calculate the uncertainty in the density and radius:"
   ]
  },
  {
   "cell_type": "code",
   "execution_count": 24,
   "metadata": {},
   "outputs": [
    {
     "name": "stdout",
     "output_type": "stream",
     "text": [
      "Delta density is 64.605, delta radius is 13.805\n"
     ]
    }
   ],
   "source": [
    "from math import sqrt\n",
    "\n",
    "t = 2.78\n",
    "earth_delta_density = 2.78 * earth_density_std / sqrt(5)\n",
    "earth_delta_radius = 2.78 * earth_radius_std / sqrt(5)\n",
    "\n",
    "print(\"Delta density is {:.3f}, delta radius is {:.3f}\".format(earth_delta_density, earth_delta_radius))"
   ]
  },
  {
   "cell_type": "markdown",
   "metadata": {},
   "source": [
    "#### 2. Calculate values for $r^{-1}$ and $v^2$\n",
    "\n",
    "$r^{-1}$ is the inverse of the radius whilst $v^2$ is the square of the velocity. We can use Pandas to compute them. Note that the initial unit in velocity is 10<sup>4</sup> km h<sup>-1</sup> whilst we want to unit of the velocity squared in 10<sup>5</sup> m<sup>2</sup> s<sup>-1</sup>, so an appropriate conversion is required:"
   ]
  },
  {
   "cell_type": "code",
   "execution_count": 26,
   "metadata": {},
   "outputs": [],
   "source": [
    "radius_inverse = 1.0 / satellite_radius\n",
    "velocity_squared = (satellite_velocity * 1e3 * (1/3600.0) * 1e4) ** 2 * 1e-5"
   ]
  },
  {
   "cell_type": "markdown",
   "metadata": {},
   "source": [
    "#### 3. Plot $v^2$ versus $r^{-1}$\n",
    "\n",
    "We will use matplotlib to plot these values. We want the units of y-axis to be 10<sup>5</sup> m<sup>2</sup> s<sup>-1</sup> whilst those of the x-axis 10<sup>-9</sup> m, therefore we'll need to scale the inverse radius.\n",
    "\n",
    "We also want to plot the trendline (perform a linear regression on the data). To get the trendline we'll use the polynomial fitting function of `numpy`. This requires two steps:\n",
    "1. Calculate the polynomial coefficients required to generate the trendline. In our case, since we know that the data is linear, one coefficients (which would be the gradient) is enough\n",
    "2. Evaluate the polynomial across the required x-axis range"
   ]
  },
  {
   "cell_type": "code",
   "execution_count": 12,
   "metadata": {},
   "outputs": [
    {
     "data": {
      "text/plain": [
       "[<matplotlib.lines.Line2D at 0x9a91908>]"
      ]
     },
     "execution_count": 12,
     "metadata": {},
     "output_type": "execute_result"
    },
    {
     "data": {
      "image/png": "[encoded data removed]",
      "text/plain": [
       "<Figure size 576x720 with 1 Axes>"
      ]
     },
     "metadata": {
      "needs_background": "light"
     },
     "output_type": "display_data"
    }
   ],
   "source": [
    "scaled_radius_inverse = radius_inverse * 1e6\n",
    "\n",
    "# Create figure and set size\n",
    "f = plt.figure(figsize=(8, 10))\n",
    "\n",
    "# Generate the scatter plot\n",
    "plt.scatter(scaled_radius_inverse, velocity_squared)\n",
    "\n",
    "# Show x and y label (you can use latex here)\n",
    "plt.xlabel(r'$r^{-1}$ / $10^{9}$ $m$')\n",
    "plt.ylabel(r'$v^2$ / $10^5$ $m^2$ $s^{-2}$')\n",
    "\n",
    "# Set x and y limits\n",
    "plt.xlim([0, 140])\n",
    "plt.ylim([0, 500])\n",
    "\n",
    "# Enable minor ticks so that we can show a fine grid\n",
    "plt.minorticks_on()\n",
    "plt.grid(b=True, which='major', linestyle='-')\n",
    "plt.grid(b=True, which='minor', linestyle='--')\n",
    "\n",
    "# Calculate the polynomical coefficients (last parameters is the number of coefficients)\n",
    "coeffs = np.polyfit(scaled_radius_inverse, velocity_squared, 1)\n",
    "\n",
    "# Generate the polynomial function, which when called will take a list of x-values\n",
    "# and will return the respective y values\n",
    "poly_function = np.poly1d(coeffs)\n",
    "\n",
    "# Generate trendline\n",
    "trendline = poly_function(scaled_radius_inverse)\n",
    "\n",
    "# Add trendline to plot\n",
    "plt.plot(scaled_radius_inverse, trendline)"
   ]
  },
  {
   "cell_type": "markdown",
   "metadata": {},
   "source": [
    "#### 4. Obtain gradient and intercept\n",
    "\n",
    "Now that we have generated the trendline we can compute it's gradient and intercept. Remember that to compute the trendline we have fitted a 1D polynomial to the data. A 1D polynomial of the form $y=mx + c$ has 2 coefficients, $m$ and $c$, which automatically give us the required values. However, we are also interested in the *error* of these values. We can tell `polyfit` to return the residuals (covariance matrix) of the fit, which we can then use to calculate the error:"
   ]
  },
  {
   "cell_type": "code",
   "execution_count": 27,
   "metadata": {},
   "outputs": [
    {
     "name": "stdout",
     "output_type": "stream",
     "text": [
      "Gradient is 3.452, with error 0.199\n",
      "Intercept is 26.637, with error 13.859\n",
      "Correlation coefficient is 0.993\n"
     ]
    }
   ],
   "source": [
    "# Run polyfit again, this time telling it to return the covariance matrix\n",
    "coeffs, V = np.polyfit(scaled_radius_inverse, velocity_squared, 1, cov=True)\n",
    "gradient = coeffs[0]\n",
    "intercept = coeffs[1]\n",
    "\n",
    "# Compute the gradient and intercept error\n",
    "gradient_error = np.sqrt(V[0][0])\n",
    "intercept_error = np.sqrt(V[1][1])\n",
    "\n",
    "# Aside: If you also want the correlation coefficient, you can:\n",
    "correlation = np.corrcoef(scaled_radius_inverse, velocity_squared)[0, 1]\n",
    "\n",
    "print(\"Gradient is {:.3f}, with error {:.3f}\".format(gradient, gradient_error))\n",
    "print(\"Intercept is {:.3f}, with error {:.3f}\".format(intercept, intercept_error))\n",
    "print(\"Correlation coefficient is {:.3f}\".format(correlation))"
   ]
  },
  {
   "cell_type": "markdown",
   "metadata": {},
   "source": [
    "Note that the original units remain valid for the above values"
   ]
  }
 ],
 "metadata": {
  "anaconda-cloud": {},
  "kernelspec": {
   "display_name": "Python 2",
   "language": "python",
   "name": "python2"
  },
  "language_info": {
   "codemirror_mode": {
    "name": "ipython",
    "version": 2
   },
   "file_extension": ".py",
   "mimetype": "text/x-python",
   "name": "python",
   "nbconvert_exporter": "python",
   "pygments_lexer": "ipython2",
   "version": "2.7.15"
  }
 },
 "nbformat": 4,
 "nbformat_minor": 2
}
