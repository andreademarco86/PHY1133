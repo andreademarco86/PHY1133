{
 "cells": [
  {
   "cell_type": "markdown",
   "metadata": {},
   "source": [
    "# Input Output\n",
    "\n",
    "There will be situations where your program has to interact with the user. For example, you would want to take input from the user and then print some results back. We can achieve this using the `input()` and `print()` functions respectively. \n",
    "\n",
    "For output, we can also use the various methods of the `str` (string) class. For example, you can use the `rjust` method to get a string which is right justified to a specified width.\n",
    "\n",
    "Another common type of input/output is dealing with files. The ability to create, read and write files is essential to many program."
   ]
  },
  {
   "cell_type": "code",
   "execution_count": null,
   "metadata": {
    "collapsed": true
   },
   "outputs": [],
   "source": [
    "def reverse(text):\n",
    "    return text[::-1]\n",
    "\n",
    "def is_palindrome(text):\n",
    "    return text == reverse(text)\n",
    "\n",
    "something = input('Enter text: ')\n",
    "if is_palindrome(something):\n",
    "    print(\"Yes, it is a palindrome\")\n",
    "else:\n",
    "    print(\"No, it is not a palindrome\")"
   ]
  },
  {
   "cell_type": "markdown",
   "metadata": {},
   "source": [
    "We use the slicing feature to reverse text (refer to examples in Data Types notebook). The `input()` function takes a string as argument and displays it to the user. Then it waits for the user to type something and press the return key. Once the user has entered and pressed the return key, the `input()` function will then retun the text the user has entered. \n",
    "\n",
    "We take the text and reverse it. If the original text and reversed text are equal, then the text is a palindrome.\n",
    "\n",
    "*An aside for interested student*: Checking whether a text is a palindrome should also ignore punctuation, spaces and case. For example, \"Rise to vote, sir\" is a also a palindrome, but our current program doesn't say it is. We can improve the above program to recognise this palindrome:"
   ]
  },
  {
   "cell_type": "code",
   "execution_count": 5,
   "metadata": {
    "collapsed": false
   },
   "outputs": [
    {
     "name": "stdout",
     "output_type": "stream",
     "text": [
      "Enter text: Rise to vote, sir\n",
      "Yes, it is a palindrome\n"
     ]
    }
   ],
   "source": [
    "def remove_forbidden_characters(text):\n",
    "    forbidden = ('!', '?', ',', '.', ' ') # This can be extended to include more characters\n",
    "    processed_text = []\n",
    "    for character in text.lower():\n",
    "        if character not in forbidden:\n",
    "            processed_text.append(character)\n",
    "    return processed_text\n",
    "\n",
    "def reverse(text):\n",
    "    return text[::-1]\n",
    "\n",
    "def is_palindrome(text):\n",
    "    return remove_forbidden_characters(text) == remove_forbidden_characters(reverse(text))\n",
    "        \n",
    "something = input('Enter text: ')\n",
    "if is_palindrome(something):\n",
    "    print(\"Yes, it is a palindrome\")\n",
    "else:\n",
    "    print(\"No, it is not a palindrome\")"
   ]
  },
  {
   "cell_type": "markdown",
   "metadata": {},
   "source": [
    "## Files\n",
    "\n",
    "You can open and use files for reading or writing by creating an object of the\n",
    "file class and using its `read`, `readline` or `write` methods appropriately to read from or write to the file. The ability to read or write to the file depends on the mode you have specified for the file opening. Then finally, when you are finished with the file, you call the `close` method to tell Python that we are done using the file."
   ]
  },
  {
   "cell_type": "code",
   "execution_count": 7,
   "metadata": {
    "collapsed": false
   },
   "outputs": [
    {
     "name": "stdout",
     "output_type": "stream",
     "text": [
      "\n",
      "Programming is fun\n",
      "When the work is done\n",
      "if you wanna make your work also fun:\n",
      "    use Python!\n"
     ]
    }
   ],
   "source": [
    "poem = \"\"\"\n",
    "Programming is fun\n",
    "When the work is done\n",
    "if you wanna make your work also fun:\n",
    "    use Python!\n",
    "\"\"\"\n",
    "\n",
    "f = open(\"poem.txt\", 'w') # Open file for 'w'riting\n",
    "f.write(poem)\n",
    "f.close() # Close the file\n",
    "\n",
    "f = open(\"poem.txt\") # If no mode is specified, 'r'ead mode is assumed\n",
    "while True:\n",
    "    line = f.readline()\n",
    "    if len(line) == 0: # Zero length indicates the end of file\n",
    "        break\n",
    "    print(line, end=\"\")\n",
    "f.close() # Close the file"
   ]
  },
  {
   "cell_type": "markdown",
   "metadata": {},
   "source": [
    "First, open a file by using the built-in `open` function and specifying the name of the file and the mode in which we want to open the file. The mode can be a\n",
    "read mode (`'r'`), write mode (`'w'`) or append mode (`'a'`). We can also specify whether we are reading, writing, or appending in text mode (`'t'`) or binary mode (`'b'`). There are actually many more modes available and `help(open)` will give you more details about them. By default, `open()` considers the file to be a 't'ext file and opens it in 'r'ead mode.\n",
    "\n",
    "In our example, we first open the file in write text mode and use the write\n",
    "method of the file object to write to the file and then we finally `close` the file.\n",
    "\n",
    "Next, we open the same file again for reading. We don’t need to specify a mode\n",
    "because 'read text file' is the default mode. We read in each line of the file using the `readline` method in a loop. This method returns a complete line including the newline character at the end of the line. When an empty string is returned, it means that we have reached the end of the file and we 'break' out of the loop.\n",
    "\n",
    "By default, the `print()` function prints the text as well as an automatic newline to the screen. We are suppressing the newline by specifying `end''` because the line that is read from the file already ends with a newline character. Then, we finally `close` the file.\n",
    "\n",
    "Now, check the contents of the `poem.txt` file to confirm that the program has\n",
    "indeed written to and read from that file (you can do some by opening the directory where this notebook is stored, or using the Jupyter browser).\n",
    "\n",
    "## The `with` statement\n",
    "\n",
    "Instead of having to close a file manually after we're done with it, we can use the `with` statement. This will automatically close the file after the `with` block is executed"
   ]
  },
  {
   "cell_type": "code",
   "execution_count": 8,
   "metadata": {
    "collapsed": false
   },
   "outputs": [
    {
     "name": "stdout",
     "output_type": "stream",
     "text": [
      "\n",
      "Programming is fun\n",
      "When the work is done\n",
      "if you wanna make your work also fun:\n",
      "    use Python!\n"
     ]
    }
   ],
   "source": [
    "with open(\"poem.txt\") as f:\n",
    "    # We can use the code below instead of manually reading lines one by one\n",
    "    for line in f:\n",
    "        print(line, end='')"
   ]
  },
  {
   "cell_type": "markdown",
   "metadata": {},
   "source": [
    "## Milestone: File Output\n",
    "\n",
    "Write a program which calculates all prime numbers between 3 and 100, and writes the output to a file called `primes.txt` rathen than to the screen. Then display the contents of the file. Only the numbers which are prime will be written to the file. The output of the file will look something like this:\n",
    "\n",
    "`The number 3 is prime` <br/>\n",
    "`The number 5 is prime` <br/>\n",
    "`The number 7 is prime` <br/>\n",
    "`The number 11 is prime` <br/>\n",
    "`...`"
   ]
  },
  {
   "cell_type": "code",
   "execution_count": 18,
   "metadata": {
    "collapsed": false
   },
   "outputs": [
    {
     "name": "stdout",
     "output_type": "stream",
     "text": [
      "The number 3 is prime\n",
      "The number 5 is prime\n",
      "The number 7 is prime\n",
      "The number 11 is prime\n",
      "The number 13 is prime\n",
      "The number 17 is prime\n",
      "The number 19 is prime\n",
      "The number 23 is prime\n",
      "The number 29 is prime\n",
      "The number 31 is prime\n",
      "The number 37 is prime\n",
      "The number 41 is prime\n",
      "The number 43 is prime\n",
      "The number 47 is prime\n",
      "The number 53 is prime\n",
      "The number 59 is prime\n",
      "The number 61 is prime\n",
      "The number 67 is prime\n",
      "The number 71 is prime\n",
      "The number 73 is prime\n",
      "The number 79 is prime\n",
      "The number 83 is prime\n",
      "The number 89 is prime\n",
      "The number 97 is prime\n",
      "\n"
     ]
    }
   ],
   "source": [
    "with open(\"primes.txt\", 'w') as f:\n",
    "     # We can skip multiples of 2 since they are definitely not prime\n",
    "    for n in range(3, 100, 2):\n",
    "        # We can loop from 3 to n / 2, since there can't be a factor smaller than 2\n",
    "        # We need to surround n/2 with int()\n",
    "        for d in range(3, int(n / 2), 2):\n",
    "            if n % d == 0:\n",
    "                break\n",
    "        else:\n",
    "            # We need to include the \\n is the string so that the write \n",
    "            # will be on a different line in the file\n",
    "            f.write(\"The number {} is prime\\n\".format(n))\n",
    "            \n",
    "# Since we opened the file in 'w' mode, we need to open it in 'r' mode now\n",
    "with open(\"primes.txt\") as f:\n",
    "    print(f.read())"
   ]
  },
  {
   "cell_type": "markdown",
   "metadata": {},
   "source": [
    "## Milestone: File Input\n",
    "\n",
    "Write a program which assumes that the file `vectors.txt` exists and consists of 100 lines, each with 3 real numbers representing `x`, `y` and `z` components of a vector. For each vector the dot product must be calculated and printed to screen. The dot product of a vector `a` is calculated as follows:\n",
    "\n",
    "$$ a\\cdot a = ||a||^2 = |a|^2 $$\n",
    "\n",
    "The input file will look something like this\n",
    "\n",
    "`2.15 12.66 15.52` <br />\n",
    "`648.21 48.5 848.25`"
   ]
  },
  {
   "cell_type": "code",
   "execution_count": 24,
   "metadata": {
    "collapsed": false
   },
   "outputs": [
    {
     "name": "stdout",
     "output_type": "stream",
     "text": [
      "Dot product is 9193.41905302277\n",
      "Dot product is 6087.216306312315\n",
      "Dot product is 12356.043599602213\n",
      "Dot product is 6198.839494061573\n",
      "Dot product is 10461.058006238105\n",
      "Dot product is 10037.87667262051\n",
      "Dot product is 6564.788215559374\n",
      "Dot product is 7202.519532666316\n",
      "Dot product is 9911.542818339414\n",
      "Dot product is 11119.825061707765\n",
      "Dot product is 9038.537018131956\n",
      "Dot product is 13448.843014481306\n",
      "Dot product is 10599.627921645837\n",
      "Dot product is 5427.710455126184\n",
      "Dot product is 7501.085896474138\n",
      "Dot product is 20915.995472980583\n",
      "Dot product is 2806.635903454931\n",
      "Dot product is 4734.182594574078\n",
      "Dot product is 10977.066609063311\n",
      "Dot product is 12727.276354174106\n",
      "Dot product is 9710.707808570036\n",
      "Dot product is 11213.260692854623\n",
      "Dot product is 4599.067923317059\n",
      "Dot product is 7623.483208245469\n",
      "Dot product is 11725.312808476701\n",
      "Dot product is 4905.817964554083\n",
      "Dot product is 2441.8807773301614\n",
      "Dot product is 11822.405794986978\n",
      "Dot product is 14729.0611344205\n",
      "Dot product is 6855.337784332489\n",
      "Dot product is 13977.940383692046\n",
      "Dot product is 14148.991207149054\n",
      "Dot product is 9386.557723995607\n",
      "Dot product is 6092.578102163379\n",
      "Dot product is 14416.791798587812\n",
      "Dot product is 5805.304222576601\n",
      "Dot product is 3520.617562303623\n",
      "Dot product is 12974.420159347586\n",
      "Dot product is 15536.367857041234\n",
      "Dot product is 13844.937498804124\n",
      "Dot product is 4560.971955266795\n",
      "Dot product is 2226.4224672681066\n",
      "Dot product is 1493.531864930971\n",
      "Dot product is 3624.671852929896\n",
      "Dot product is 17590.005240798164\n",
      "Dot product is 10921.035590385914\n",
      "Dot product is 4926.1633192071995\n",
      "Dot product is 12961.273064461959\n",
      "Dot product is 13271.791610266604\n",
      "Dot product is 4724.19161218298\n",
      "Dot product is 1264.2287227459256\n",
      "Dot product is 10574.262885645954\n",
      "Dot product is 13815.622107942341\n",
      "Dot product is 12848.126320354193\n",
      "Dot product is 13025.305161284461\n",
      "Dot product is 10976.491645483393\n",
      "Dot product is 3119.0786553547105\n",
      "Dot product is 18953.726336043626\n",
      "Dot product is 15222.13248627057\n",
      "Dot product is 9368.28591917258\n",
      "Dot product is 16283.624817968615\n",
      "Dot product is 1705.618972888653\n",
      "Dot product is 12535.802323847647\n",
      "Dot product is 6246.110370928967\n",
      "Dot product is 9773.967810418877\n",
      "Dot product is 7465.119083376867\n",
      "Dot product is 9286.643392442225\n",
      "Dot product is 2930.4892030826213\n",
      "Dot product is 11047.91840740295\n",
      "Dot product is 12873.647351959613\n",
      "Dot product is 14530.00714940745\n",
      "Dot product is 2888.375865872412\n",
      "Dot product is 9038.150500190244\n",
      "Dot product is 8385.422972077877\n",
      "Dot product is 6376.604538152175\n",
      "Dot product is 13531.177101287227\n",
      "Dot product is 11169.216544264462\n",
      "Dot product is 5241.430159187613\n",
      "Dot product is 7839.967625255131\n",
      "Dot product is 9898.32969983679\n",
      "Dot product is 8781.21660976644\n",
      "Dot product is 2604.286330514632\n",
      "Dot product is 13594.320800030186\n",
      "Dot product is 8218.946997496922\n",
      "Dot product is 9923.219691047236\n",
      "Dot product is 3206.667426127748\n",
      "Dot product is 14035.429771688308\n",
      "Dot product is 3656.2521821069854\n",
      "Dot product is 3926.835565482413\n",
      "Dot product is 2415.629769079521\n",
      "Dot product is 6738.812523702917\n",
      "Dot product is 4375.138050951045\n",
      "Dot product is 10311.304586852999\n",
      "Dot product is 8220.527585218766\n",
      "Dot product is 13631.753831606078\n",
      "Dot product is 8845.652061748908\n",
      "Dot product is 11830.199726865718\n",
      "Dot product is 8423.268092679557\n",
      "Dot product is 9614.437080557711\n",
      "Dot product is 9214.268276331914\n"
     ]
    }
   ],
   "source": [
    "def dot_product(x, y, z):\n",
    "    return x*x + y*y + z*z\n",
    "\n",
    "# Open the file in read mode\n",
    "with open('vectors.txt') as f:\n",
    "    # Loop over all the vectors in the file\n",
    "    for vector in f:\n",
    "        # A line contains 3 real numbers separated by a space. We need to split\n",
    "        # the string into 3, remove the spaces and convert each number to float\n",
    "        # We can use the split string function to split the lines into three\n",
    "        x, y, z = [float(num) for num in vector.split(' ')]\n",
    "        \n",
    "        # Print the dot product\n",
    "        print(\"Dot product is {}\".format(dot_product(x, y, z)))"
   ]
  }
 ],
 "metadata": {
  "kernelspec": {
   "display_name": "Python [default]",
   "language": "python",
   "name": "python3"
  },
  "language_info": {
   "codemirror_mode": {
    "name": "ipython",
    "version": 3
   },
   "file_extension": ".py",
   "mimetype": "text/x-python",
   "name": "python",
   "nbconvert_exporter": "python",
   "pygments_lexer": "ipython3",
   "version": "3.5.2"
  }
 },
 "nbformat": 4,
 "nbformat_minor": 1
}
