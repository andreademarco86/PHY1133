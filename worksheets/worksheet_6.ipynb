{
 "cells": [
  {
   "cell_type": "markdown",
   "metadata": {},
   "source": [
    "# Worksheet 6\n",
    "\n",
    "#### Question 1\n",
    "\n",
    "Graph both of the following functions on a single figure, with a usefully sized scale\n",
    "1.   $x^4e^{-2x}$\n",
    "2.   $[x^2e^{-x}sin(x^2)]^2$\n",
    "\n",
    "Make sure your figure has legend, range, axis labels, and so on."
   ]
  },
  {
   "cell_type": "markdown",
   "metadata": {},
   "source": [
    "***\n",
    "#### Question 2\n",
    "\n",
    "The file `radiation.txt` contains two columns. The first column is counts from a Geiger counter, the second is time in seconds.\n",
    "\n",
    "1. Make a useful graph of this data\n",
    "2. If this data follows an exponential curve, then plotting the natural log of the data (or plotting the raw data on a logarithmic scale) will result in a straight line. Determine whether this is the case, and explain your conclusion with an appropraite graph"
   ]
  },
  {
   "cell_type": "markdown",
   "metadata": {},
   "source": [
    "***\n",
    "#### Question 3\n",
    "\n",
    "The data in `radiation.txt` is actual data from a radioactive decay experiment; the first column is the number of decays $N$, the second is the time $t$ in seconds. We'd like to know the half-life $t_{1/2}$ of $^{137}$Ba. It should follow rhe decay equation\n",
    "\n",
    "$$N=N_oe^{-\\lambda t}$$\n",
    "\n",
    "where $\\lambda$ = $\\frac{log2}{t_{1/2}}$. Load the data from `radiation.txt` and experiment with different values of $N$ and $\\lambda$ and plot the resulting equation on top of the data. What is your best estimate for \n",
    "$t_{1/2}$?\n",
    "\n",
    "*** \n",
    "#### Question 4\n",
    "\n",
    "The file `microphones.txt` is from a lab experiment. Load this data by using the NumPy function `loadtxt`:"
   ]
  },
  {
   "cell_type": "code",
   "execution_count": 10,
   "metadata": {
    "collapsed": false
   },
   "outputs": [
    {
     "name": "stdout",
     "output_type": "stream",
     "text": [
      "[   10.    11.    12. ...,  2997.  2998.  2999.] [ 0.654  0.127  0.12  ...,  1.466  1.458  0.125] [ 0.192  0.032  0.03  ...,  0.246  0.235  0.031]\n"
     ]
    }
   ],
   "source": [
    "import numpy as np\n",
    "frequency, mic1, mic2 = np.loadtxt('microphones.txt', unpack=True)"
   ]
  },
  {
   "cell_type": "markdown",
   "metadata": {},
   "source": [
    "The `loadtxt()` function takes the filename and a number of optional arguments (here we're using `unpack` which tells it that the file contains columns of data that should be returned in separate arrays). By default, it will ignore lines that begin with `#` as it assumes that such lines are comments, and it will assume that the columns are separated by tabs.\n",
    "\n",
    "Now that you've loaded the data:\n",
    "1. Plot the microphone responses on the same figure, placing the frequency scale on the x-axis\n",
    "2. This data is most usefully analysed by looking at the ratio of the two microphone signals. Plot this ratio."
   ]
  }
 ],
 "metadata": {
  "anaconda-cloud": {},
  "kernelspec": {
   "display_name": "Python 3",
   "language": "python",
   "name": "python3"
  },
  "language_info": {
   "codemirror_mode": {
    "name": "ipython",
    "version": 3
   },
   "file_extension": ".py",
   "mimetype": "text/x-python",
   "name": "python",
   "nbconvert_exporter": "python",
   "pygments_lexer": "ipython3",
   "version": "3.5.2"
  }
 },
 "nbformat": 4,
 "nbformat_minor": 1
}
