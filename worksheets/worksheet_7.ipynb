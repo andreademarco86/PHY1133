{
 "cells": [
  {
   "cell_type": "markdown",
   "metadata": {},
   "source": [
    "# Worksheet 6\n",
    "\n",
    "#### Question 1 - Bisecation Method\n",
    "\n",
    "Using the Bisection method, find the root of:\n",
    "\n",
    "$$x^2-40$$\n",
    "\n",
    "use $x_1=7$, $x_2=6$ and 0.0001 as a convergence criteria"
   ]
  },
  {
   "cell_type": "code",
   "execution_count": 16,
   "metadata": {
    "collapsed": false
   },
   "outputs": [
    {
     "name": "stdout",
     "output_type": "stream",
     "text": [
      "6.5\n",
      "6.25\n",
      "6.375\n",
      "6.3125\n",
      "6.34375\n",
      "6.328125\n",
      "6.3203125\n",
      "6.32421875\n",
      "6.326171875\n",
      "6.3251953125\n",
      "6.32470703125\n",
      "6.324462890625\n",
      "6.3245849609375\n",
      "6.32452392578125\n",
      "6.324554443359375\n",
      "6.3245697021484375\n",
      "6.324562072753906\n",
      "6.324558258056641\n",
      "6.324556350708008\n",
      "6.324555397033691\n",
      "6.324554920196533\n",
      "6.324555158615112\n",
      "6.324555277824402\n",
      "6.324555337429047\n",
      "6.324555307626724\n",
      "6.324555322527885\n",
      "6.324555315077305\n",
      "6.324555318802595\n",
      "6.32455532066524\n",
      "6.324555319733918\n",
      "6.324555319733918\n"
     ]
    }
   ],
   "source": [
    "def func(x):\n",
    "    return x**2 - 40\n",
    "\n",
    "x1 = 7\n",
    "x2 = 6\n",
    "xnew = 0\n",
    "\n",
    "while True:\n",
    "    xnew = (x1+x2) / 2\n",
    "    error = abs((x1-x2)/2.0)\n",
    "    print(xnew)\n",
    "    if error < 1e-9:\n",
    "        break\n",
    "    if (func(xnew) > 0):\n",
    "        x1 = xnew\n",
    "    else:\n",
    "        x2 = xnew\n",
    "        \n",
    "print(xnew)"
   ]
  },
  {
   "cell_type": "markdown",
   "metadata": {},
   "source": [
    "***\n",
    "#### Question 2: The direct method\n",
    "\n",
    "Fixed-point iteration (also known as the iterative method) is a method of computing fixed points of iterated functions. Using this method, solve:\n",
    "\n",
    "$$ x^2 - x - 2 = 0$$\n",
    "\n",
    "by re-writing the equation as\n",
    "\n",
    "$$x=x\\frac{x+2}{x} \\text{   and   } x=x^2-2$$"
   ]
  },
  {
   "cell_type": "code",
   "execution_count": 10,
   "metadata": {
    "collapsed": false
   },
   "outputs": [
    {
     "ename": "OverflowError",
     "evalue": "(34, 'Numerical result out of range')",
     "output_type": "error",
     "traceback": [
      "\u001b[0;31m---------------------------------------------------------------------------\u001b[0m",
      "\u001b[0;31mOverflowError\u001b[0m                             Traceback (most recent call last)",
      "\u001b[0;32m<ipython-input-10-ae384f8b8977>\u001b[0m in \u001b[0;36m<module>\u001b[0;34m()\u001b[0m\n\u001b[1;32m      2\u001b[0m \u001b[0;32mwhile\u001b[0m \u001b[0;32mTrue\u001b[0m\u001b[0;34m:\u001b[0m\u001b[0;34m\u001b[0m\u001b[0m\n\u001b[1;32m      3\u001b[0m     \u001b[0mx2\u001b[0m \u001b[0;34m=\u001b[0m \u001b[0mx1\u001b[0m\u001b[0;34m\u001b[0m\u001b[0m\n\u001b[0;32m----> 4\u001b[0;31m     \u001b[0mx1\u001b[0m \u001b[0;34m=\u001b[0m \u001b[0;34m(\u001b[0m\u001b[0mx1\u001b[0m\u001b[0;34m**\u001b[0m\u001b[0;36m2\u001b[0m\u001b[0;34m-\u001b[0m\u001b[0;36m3\u001b[0m\u001b[0;34m)\u001b[0m\u001b[0;34m/\u001b[0m\u001b[0;36m2.0\u001b[0m\u001b[0;34m\u001b[0m\u001b[0m\n\u001b[0m\u001b[1;32m      5\u001b[0m     \u001b[0;32mif\u001b[0m \u001b[0mabs\u001b[0m\u001b[0;34m(\u001b[0m\u001b[0mx1\u001b[0m\u001b[0;34m-\u001b[0m\u001b[0mx2\u001b[0m\u001b[0;34m)\u001b[0m \u001b[0;34m<\u001b[0m \u001b[0;36m0.01\u001b[0m\u001b[0;34m:\u001b[0m\u001b[0;34m\u001b[0m\u001b[0m\n\u001b[1;32m      6\u001b[0m         \u001b[0;32mbreak\u001b[0m\u001b[0;34m\u001b[0m\u001b[0m\n",
      "\u001b[0;31mOverflowError\u001b[0m: (34, 'Numerical result out of range')"
     ]
    }
   ],
   "source": [
    "x1 = -98\n",
    "while True:\n",
    "    x2 = x1\n",
    "    x1 = (x1**2-3)/2.0\n",
    "    if abs(x1-x2) < 0.01:\n",
    "        break\n",
    "print(x2)"
   ]
  }
 ],
 "metadata": {
  "anaconda-cloud": {},
  "kernelspec": {
   "display_name": "Python 3",
   "language": "python",
   "name": "python3"
  },
  "language_info": {
   "codemirror_mode": {
    "name": "ipython",
    "version": 3
   },
   "file_extension": ".py",
   "mimetype": "text/x-python",
   "name": "python",
   "nbconvert_exporter": "python",
   "pygments_lexer": "ipython3",
   "version": "3.5.2"
  }
 },
 "nbformat": 4,
 "nbformat_minor": 1
}
