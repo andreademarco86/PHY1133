{
 "cells": [
  {
   "cell_type": "markdown",
   "metadata": {},
   "source": [
    "# Worksheet 7\n",
    "\n",
    "#### Question 1: Bisecation Method\n",
    "\n",
    "Using the Bisection method, find the root of:\n",
    "\n",
    "$$x^2-40$$\n",
    "\n",
    "use $x_1=7$, $x_2=6$ and 0.0001 as a convergence criteria"
   ]
  },
  {
   "cell_type": "markdown",
   "metadata": {},
   "source": [
    "***\n",
    "#### Question 2: The direct method\n",
    "\n",
    "Fixed-point iteration (also known as the iterative method) is a method of computing fixed points of iterated functions. Using this method, solve:\n",
    "\n",
    "$$ x^2 - x - 2 = 0$$\n",
    "\n",
    "by re-writing the equation as\n",
    "\n",
    "$$x=x\\frac{x+2}{x} \\text{   and   } x=x^2-2$$"
   ]
  }
 ],
 "metadata": {
  "anaconda-cloud": {},
  "kernelspec": {
   "display_name": "Python 3",
   "language": "python",
   "name": "python3"
  },
  "language_info": {
   "codemirror_mode": {
    "name": "ipython",
    "version": 3
   },
   "file_extension": ".py",
   "mimetype": "text/x-python",
   "name": "python",
   "nbconvert_exporter": "python",
   "pygments_lexer": "ipython3",
   "version": "3.5.2"
  }
 },
 "nbformat": 4,
 "nbformat_minor": 1
}
