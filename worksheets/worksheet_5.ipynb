{
 "cells": [
  {
   "cell_type": "markdown",
   "metadata": {},
   "source": [
    "# Worksheet 5\n",
    "\n",
    "#### Question 1\n",
    "\n",
    "Write a program which outputs all the natural numbers small than 100 to a file, each number being on a separate line"
   ]
  },
  {
   "cell_type": "markdown",
   "metadata": {},
   "source": [
    "***\n",
    "#### Question 2\n",
    "\n",
    "Write a program which creates a list of 3D tuples (tuples with 3 entries representing 3 dimensions) whose components are initialised to random values between 0 and 10. Write these vectors to a file, where each line will contain the $x$, $y$ and $z$ components separated by a white space"
   ]
  },
  {
   "cell_type": "markdown",
   "metadata": {},
   "source": [
    "***\n",
    "#### Question 3\n",
    "\n",
    "Read in the file generated in the previous question, calculate the magnited for each vector and print this to screen. The magnitude is calculated as follows:\n",
    "\n",
    "$$ r = \\sqrt{x^2+y^2+z^2} $$"
   ]
  },
  {
   "cell_type": "markdown",
   "metadata": {},
   "source": [
    "#### Question 4\n",
    "\n",
    "Write a program that opens the file generated in question 2, calculates the spherical polar co-ordinates $(\\rho, \\theta, \\phi)$ and write these values out to a file. Spherical polar co-ordinates are depicted below. The three components can be calculated as follows:\n",
    "\n",
    "$$\n",
    "\\begin{eqnarray}\n",
    "\\rho & = & \\sqrt{x^2+y^2+z^2} \\\\\n",
    "\\theta & = & arctan(y, x) \\\\\n",
    "\\phi & = & arccos(x/p)\n",
    "\\end{eqnarray}\n",
    "$$\n",
    "<br />\n",
    "\n",
    "<img src=\"spherical.png\" style=\"width: 300px;\" />\n",
    "\n",
    "***\n",
    "Back to [index](index.ipynb) page"
   ]
  }
 ],
 "metadata": {
  "anaconda-cloud": {},
  "kernelspec": {
   "display_name": "Python 2",
   "language": "python",
   "name": "python2"
  },
  "language_info": {
   "codemirror_mode": {
    "name": "ipython",
    "version": 2
   },
   "file_extension": ".py",
   "mimetype": "text/x-python",
   "name": "python",
   "nbconvert_exporter": "python",
   "pygments_lexer": "ipython2",
   "version": "2.7.15"
  }
 },
 "nbformat": 4,
 "nbformat_minor": 1
}
