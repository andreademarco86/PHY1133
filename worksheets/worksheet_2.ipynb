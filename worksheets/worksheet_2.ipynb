{
 "cells": [
  {
   "cell_type": "markdown",
   "metadata": {},
   "source": [
    "# Worksheet 2\n",
    "\n",
    "#### Question 1\n",
    "Write a program to read in 10 numbers and compute the average, maximum and minimum values"
   ]
  },
  {
   "cell_type": "code",
   "execution_count": 5,
   "metadata": {
    "collapsed": false
   },
   "outputs": [
    {
     "name": "stdout",
     "output_type": "stream",
     "text": [
      "Enter a number: 1\n",
      "Enter a number: 2\n",
      "Enter a number: 3\n",
      "Enter a number: 1\n",
      "Enter a number: 4\n",
      "Enter a number: 5\n",
      "Enter a number: 6\n",
      "Enter a number: 1\n",
      "Enter a number: 32\n",
      "Enter a number: 4\n",
      "The sum is 59, the average is 5.9, minimum is 1 and maximum is 32\n"
     ]
    }
   ],
   "source": [
    "# Solution to question 1\n",
    "sum = 0\n",
    "curr_min = 1e10\n",
    "curr_max = 1e-10\n",
    "\n",
    "for i in range(10):\n",
    "    num = int(input(\"Enter a number: \"))\n",
    "    sum += num\n",
    "    \n",
    "    if num > curr_max:\n",
    "        curr_max = num\n",
    "    \n",
    "    if num < curr_min:\n",
    "        curr_min = num\n",
    "        \n",
    "print(\"The sum is {}, the average is {}, minimum is {} and maximum is {}\".\n",
    "      arcadformat(sum, sum/10, curr_min, curr_max))\n"
   ]
  },
  {
   "cell_type": "raw",
   "metadata": {},
   "source": [
    "***\n",
    "#### Question 2\n",
    "Write a program to read in numbers until the number -999 is encountered. The sum of all the numbers read until this point should be printed out."
   ]
  },
  {
   "cell_type": "code",
   "execution_count": 6,
   "metadata": {
    "collapsed": true
   },
   "outputs": [],
   "source": [
    "# Solution to question 2\n",
    "\n",
    "\n"
   ]
  },
  {
   "cell_type": "markdown",
   "metadata": {},
   "source": [
    "***\n",
    "#### Question 3\n",
    "Evaluate the roots of the quadratic equation $ax^2+bx+c=0$, covering the three types of discriminant."
   ]
  },
  {
   "cell_type": "code",
   "execution_count": 7,
   "metadata": {
    "collapsed": true
   },
   "outputs": [],
   "source": [
    "# Solution to question 3\n",
    "\n",
    "\n"
   ]
  },
  {
   "cell_type": "code",
   "execution_count": null,
   "metadata": {
    "collapsed": true
   },
   "outputs": [],
   "source": []
  },
  {
   "cell_type": "markdown",
   "metadata": {},
   "source": [
    "***\n",
    "#### Question 4\n",
    "Read a positive integer value, and compute the following sequence:\n",
    "- If the number is even, halve it\n",
    "- If the number is odd, multiply it by 3 and add 1\n",
    "\n",
    "Repeat this process until the value is 1, printing out each value. Finally print out how many\n",
    "of these opeartions were performed."
   ]
  },
  {
   "cell_type": "code",
   "execution_count": null,
   "metadata": {
    "collapsed": true
   },
   "outputs": [],
   "source": []
  },
  {
   "cell_type": "code",
   "execution_count": 8,
   "metadata": {
    "collapsed": true
   },
   "outputs": [],
   "source": [
    "# Solution to question 4\n",
    "\n",
    "\n"
   ]
  },
  {
   "cell_type": "markdown",
   "metadata": {},
   "source": [
    "*** \n",
    "#### Question 5\n",
    "Evaluate $e^x$ by computing the following power series up to 10 terms:\n",
    "$$e^x = 1 + x + \\frac{x^2}{2!} + \\frac{x^3}{3!} + \\ldots$$"
   ]
  },
  {
   "cell_type": "code",
   "execution_count": 9,
   "metadata": {
    "collapsed": true
   },
   "outputs": [],
   "source": [
    "# Solution to question 5\n",
    "\n",
    "\n"
   ]
  },
  {
   "cell_type": "markdown",
   "metadata": {},
   "source": [
    "***\n",
    "#### Question 6\n",
    "Evaluate the power series defined in question 5 to within an minimum error of 0.0001, counting the number of terms required (compare the value in each iteration with the value given by the exp function)."
   ]
  },
  {
   "cell_type": "code",
   "execution_count": 10,
   "metadata": {
    "collapsed": true
   },
   "outputs": [],
   "source": [
    "# Solution to question 6\n",
    "\n",
    "\n"
   ]
  },
  {
   "cell_type": "markdown",
   "metadata": {},
   "source": [
    "***\n",
    "#### Question 7\n",
    "Write a program to evalute and print the function of two variables\n",
    "\n",
    "$$f(x,y)=\\frac{1}{2\\pi}e^{-(x^2+y^2)/2}$$\n",
    "\n",
    "over the range x=0, 0,1, 0.2..., 0.5 and y=0, 0.1, 0.2..., 0.5 (which is the bivariate probability density function for a rather simplified case of the normal distribution)."
   ]
  },
  {
   "cell_type": "code",
   "execution_count": 11,
   "metadata": {
    "collapsed": true
   },
   "outputs": [],
   "source": [
    "# Solution to question 7\n",
    "\n",
    "\n"
   ]
  },
  {
   "cell_type": "markdown",
   "metadata": {},
   "source": [
    "***\n",
    "#### Question 8\n",
    "In many cases an analytic expression for the integrand of a function cannot be found, and such an integration can only be performed by an operation called numerical integration, or preferably numerical quadrature. One method, of many, is called the trapezoidal rule, in which\n",
    "\n",
    "$$\\int^{x_2}_{x_1} f(x)dx=\\frac{f(x_1) + f(x_2)}{2} (x_2-x_1)$$\n",
    "\n",
    "which is simply the area of the leftmost shaded trapezoid of the figure below:\n",
    "\n",
    "<img src=\"trapezoid_rule.png\" />\n",
    "\n",
    "One shaded trapezoid would not be accurate enough, so a number of thin trapezoids would be taken and their areas summed.\n",
    "\n",
    "Using the trapezoid rule, find\n",
    "\n",
    "$$\\frac{1}{\\sqrt{2\\pi}}\\int^1_0 e^{-x^2/2}dx$$\n",
    "\n",
    "by dividing the range $0\\le x\\le1$ into ten equal segments and summing the areas of the trapezoid so formed. "
   ]
  },
  {
   "cell_type": "code",
   "execution_count": 4,
   "metadata": {
    "collapsed": false
   },
   "outputs": [
    {
     "name": "stdout",
     "output_type": "stream",
     "text": [
      "Result is: 0.364\n"
     ]
    }
   ],
   "source": [
    "# Solution to question 8\n",
    "import math\n",
    "\n",
    "integral = 0\n",
    "\n",
    "# Loop over trapezoids\n",
    "for counter in range(11):\n",
    "    \n",
    "    # Get boundaries for current trapezoid\n",
    "    x1 = counter * 0.1\n",
    "    x2 = (counter + 1) * 0.1\n",
    "    \n",
    "    # (f(x1) + f(x2) / 2)(x2 - x1)\n",
    "    integral += ((math.exp(-x1 * x1 / 2) + \n",
    "                  math.exp(-x2 * x2 / 2)) / 2) * (x2 - x1)\n",
    "    \n",
    "integral *= 1.0 / math.sqrt(2 * math.pi)\n",
    "    \n",
    "print(\"Result is: {0:.3}\".format(integral))\n",
    "\n"
   ]
  },
  {
   "cell_type": "markdown",
   "metadata": {},
   "source": [
    "***\n",
    "#### Question 9\n",
    "The term 'numerical integration' also applies to the solution of differential equations by numerical means. A wide variety of methods are available, but one of the most popular is a class of techniques collectively known as Runge-Kutta methods. Given an equation\n",
    "\n",
    "$$\\frac{dy}{dt} = f(y,t)$$\n",
    "\n",
    "for which $y_0$ is known at $t_0$ and $y(t_0+h)$ is desired. This requirement can be met by calculating, in order, the following quantities:\n",
    "\n",
    "$$\n",
    "\\begin{eqnarray}\n",
    "k_0 & = & hf(y_0, t_0) \\\\\n",
    "k_1 & = & hf(y_0 + k_0/2, t_0 + h/2)\\\\\n",
    "k_2 & = & hf(y_0 + k_1/2, t_0 + h/2)\\\\\n",
    "k_3 & = & hf(y_0 + k_2, t_0 + h)\n",
    "\\end{eqnarray}\n",
    "$$\n",
    "\n",
    "after which the value for $y(t+h)$ is found as:\n",
    "\n",
    "$$y(t+h)=y_0 + \\frac{1}{6}\\left( k_0 + 2k_1 + 2k_2 + k_3 \\right)$$\n",
    "\n",
    "This is then a Runge-Kutta procedure of the fourth order. Use this method to solve the equation\n",
    "\n",
    "$$\\frac{dy}{dt} = -y$$\n",
    "\n",
    "with $y=1$ at $t=0$. Begin with $h=0.1$ and carry out the solution for $t=0,h,2h...4h$ seconds. Then try $h=0.2,0.4...$.\n"
   ]
  },
  {
   "cell_type": "code",
   "execution_count": null,
   "metadata": {
    "collapsed": true
   },
   "outputs": [],
   "source": [
    "# Solution to question 9\n",
    "\n",
    "\n"
   ]
  }
 ],
 "metadata": {
  "anaconda-cloud": {},
  "kernelspec": {
   "display_name": "Python 3",
   "language": "python",
   "name": "python3"
  },
  "language_info": {
   "codemirror_mode": {
    "name": "ipython",
    "version": 3
   },
   "file_extension": ".py",
   "mimetype": "text/x-python",
   "name": "python",
   "nbconvert_exporter": "python",
   "pygments_lexer": "ipython3",
   "version": "3.6.0"
  }
 },
 "nbformat": 4,
 "nbformat_minor": 1
}
